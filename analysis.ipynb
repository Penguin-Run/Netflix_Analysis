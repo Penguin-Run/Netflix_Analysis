{
 "cells": [
  {
   "cell_type": "markdown",
   "id": "stopped-analyst",
   "metadata": {},
   "source": [
    "# Netflix data Analysis"
   ]
  },
  {
   "cell_type": "markdown",
   "id": "beautiful-workshop",
   "metadata": {},
   "source": [
    "Прошел вводный курс от Яндекса и решил попрактиковаться и сделать мини-проект на реальных данных. В качестве этих самых \"реальных данных\" буду использовать \"Netflix Movies and TV Shows\" dataset взятый из топа kaggle.com\n",
    "\n",
    "Первой гипотезой моего исследования ставлю следующее предположение:\n",
    "* Is Netflix has increasingly focusing on TV rather than movies in recent years?\n",
    "    \n",
    "Считаю, что эту гипотезу вполне можно подтвердить количественными методами анализа, которыми я уже способен оперировать.\n",
    "Главная задача на данный момент, определить метрику по которой можно будет оценивать именно фокус самого нетфликса на тот или иной сегмент. Ну а пока разберусь с импортом пандаса из Jupiter'a"
   ]
  },
  {
   "cell_type": "code",
   "execution_count": 97,
   "id": "skilled-rescue",
   "metadata": {},
   "outputs": [],
   "source": [
    "import pandas as pd"
   ]
  },
  {
   "cell_type": "markdown",
   "id": "checked-basketball",
   "metadata": {},
   "source": [
    "Ну а теперь можно и посмотреть наши данные"
   ]
  },
  {
   "cell_type": "markdown",
   "id": "miniature-married",
   "metadata": {},
   "source": [
    "## Предобработка данных"
   ]
  },
  {
   "cell_type": "code",
   "execution_count": 98,
   "id": "enormous-dining",
   "metadata": {},
   "outputs": [],
   "source": [
    "df = pd.read_csv('./netflix_titles.csv')"
   ]
  },
  {
   "cell_type": "code",
   "execution_count": 188,
   "id": "substantial-idaho",
   "metadata": {},
   "outputs": [
    {
     "data": {
      "text/html": [
       "<div>\n",
       "<style scoped>\n",
       "    .dataframe tbody tr th:only-of-type {\n",
       "        vertical-align: middle;\n",
       "    }\n",
       "\n",
       "    .dataframe tbody tr th {\n",
       "        vertical-align: top;\n",
       "    }\n",
       "\n",
       "    .dataframe thead th {\n",
       "        text-align: right;\n",
       "    }\n",
       "</style>\n",
       "<table border=\"1\" class=\"dataframe\">\n",
       "  <thead>\n",
       "    <tr style=\"text-align: right;\">\n",
       "      <th></th>\n",
       "      <th>show_id</th>\n",
       "      <th>type</th>\n",
       "      <th>title</th>\n",
       "      <th>director</th>\n",
       "      <th>actors</th>\n",
       "      <th>countries</th>\n",
       "      <th>date_added_to_netflix</th>\n",
       "      <th>release_year</th>\n",
       "      <th>rating</th>\n",
       "      <th>duration</th>\n",
       "      <th>genres</th>\n",
       "      <th>description</th>\n",
       "      <th>yr_added</th>\n",
       "      <th>month_added</th>\n",
       "      <th>day_added</th>\n",
       "    </tr>\n",
       "  </thead>\n",
       "  <tbody>\n",
       "    <tr>\n",
       "      <th>0</th>\n",
       "      <td>s1</td>\n",
       "      <td>TV Show</td>\n",
       "      <td>3%</td>\n",
       "      <td>unknown</td>\n",
       "      <td>João Miguel, Bianca Comparato, Michel Gomes, R...</td>\n",
       "      <td>Brazil</td>\n",
       "      <td>August 14, 2020</td>\n",
       "      <td>2020</td>\n",
       "      <td>TV-MA</td>\n",
       "      <td>4 Seasons</td>\n",
       "      <td>International TV Shows, TV Dramas, TV Sci-Fi &amp;...</td>\n",
       "      <td>In a future where the elite inhabit an island ...</td>\n",
       "      <td>2020</td>\n",
       "      <td>8</td>\n",
       "      <td>14</td>\n",
       "    </tr>\n",
       "    <tr>\n",
       "      <th>1</th>\n",
       "      <td>s2</td>\n",
       "      <td>Movie</td>\n",
       "      <td>7:19</td>\n",
       "      <td>Jorge Michel Grau</td>\n",
       "      <td>Demián Bichir, Héctor Bonilla, Oscar Serrano, ...</td>\n",
       "      <td>Mexico</td>\n",
       "      <td>December 23, 2016</td>\n",
       "      <td>2016</td>\n",
       "      <td>TV-MA</td>\n",
       "      <td>93 min</td>\n",
       "      <td>Dramas, International Movies</td>\n",
       "      <td>After a devastating earthquake hits Mexico Cit...</td>\n",
       "      <td>2016</td>\n",
       "      <td>12</td>\n",
       "      <td>23</td>\n",
       "    </tr>\n",
       "    <tr>\n",
       "      <th>2</th>\n",
       "      <td>s3</td>\n",
       "      <td>Movie</td>\n",
       "      <td>23:59</td>\n",
       "      <td>Gilbert Chan</td>\n",
       "      <td>Tedd Chan, Stella Chung, Henley Hii, Lawrence ...</td>\n",
       "      <td>Singapore</td>\n",
       "      <td>December 20, 2018</td>\n",
       "      <td>2011</td>\n",
       "      <td>R</td>\n",
       "      <td>78 min</td>\n",
       "      <td>Horror Movies, International Movies</td>\n",
       "      <td>When an army recruit is found dead, his fellow...</td>\n",
       "      <td>2018</td>\n",
       "      <td>12</td>\n",
       "      <td>20</td>\n",
       "    </tr>\n",
       "  </tbody>\n",
       "</table>\n",
       "</div>"
      ],
      "text/plain": [
       "  show_id     type  title           director  \\\n",
       "0      s1  TV Show     3%            unknown   \n",
       "1      s2    Movie   7:19  Jorge Michel Grau   \n",
       "2      s3    Movie  23:59       Gilbert Chan   \n",
       "\n",
       "                                              actors  countries  \\\n",
       "0  João Miguel, Bianca Comparato, Michel Gomes, R...     Brazil   \n",
       "1  Demián Bichir, Héctor Bonilla, Oscar Serrano, ...     Mexico   \n",
       "2  Tedd Chan, Stella Chung, Henley Hii, Lawrence ...  Singapore   \n",
       "\n",
       "  date_added_to_netflix  release_year rating   duration  \\\n",
       "0       August 14, 2020          2020  TV-MA  4 Seasons   \n",
       "1     December 23, 2016          2016  TV-MA     93 min   \n",
       "2     December 20, 2018          2011      R     78 min   \n",
       "\n",
       "                                              genres  \\\n",
       "0  International TV Shows, TV Dramas, TV Sci-Fi &...   \n",
       "1                       Dramas, International Movies   \n",
       "2                Horror Movies, International Movies   \n",
       "\n",
       "                                         description  yr_added  month_added  \\\n",
       "0  In a future where the elite inhabit an island ...      2020            8   \n",
       "1  After a devastating earthquake hits Mexico Cit...      2016           12   \n",
       "2  When an army recruit is found dead, his fellow...      2018           12   \n",
       "\n",
       "   day_added  \n",
       "0         14  \n",
       "1         23  \n",
       "2         20  "
      ]
     },
     "execution_count": 188,
     "metadata": {},
     "output_type": "execute_result"
    }
   ],
   "source": [
    "df.loc[:2]"
   ]
  },
  {
   "cell_type": "code",
   "execution_count": 100,
   "id": "treated-arabic",
   "metadata": {},
   "outputs": [
    {
     "name": "stdout",
     "output_type": "stream",
     "text": [
      "<class 'pandas.core.frame.DataFrame'>\n",
      "RangeIndex: 7787 entries, 0 to 7786\n",
      "Data columns (total 12 columns):\n",
      " #   Column        Non-Null Count  Dtype \n",
      "---  ------        --------------  ----- \n",
      " 0   show_id       7787 non-null   object\n",
      " 1   type          7787 non-null   object\n",
      " 2   title         7787 non-null   object\n",
      " 3   director      5398 non-null   object\n",
      " 4   cast          7069 non-null   object\n",
      " 5   country       7280 non-null   object\n",
      " 6   date_added    7777 non-null   object\n",
      " 7   release_year  7787 non-null   int64 \n",
      " 8   rating        7780 non-null   object\n",
      " 9   duration      7787 non-null   object\n",
      " 10  listed_in     7787 non-null   object\n",
      " 11  description   7787 non-null   object\n",
      "dtypes: int64(1), object(11)\n",
      "memory usage: 730.2+ KB\n"
     ]
    }
   ],
   "source": [
    "df.info()"
   ]
  },
  {
   "cell_type": "code",
   "execution_count": 102,
   "id": "settled-pierce",
   "metadata": {},
   "outputs": [
    {
     "data": {
      "text/plain": [
       "0"
      ]
     },
     "execution_count": 102,
     "metadata": {},
     "output_type": "execute_result"
    }
   ],
   "source": [
    "df.duplicated().sum()"
   ]
  },
  {
   "cell_type": "markdown",
   "id": "limiting-arrest",
   "metadata": {},
   "source": [
    "Переименую столбцы в более интуитивно понятные (мне) имена"
   ]
  },
  {
   "cell_type": "code",
   "execution_count": 103,
   "id": "approved-folder",
   "metadata": {},
   "outputs": [],
   "source": [
    "cols = list(df.columns)\n",
    "cols[4] = 'actors'\n",
    "cols[5] = 'countries'\n",
    "cols[6] = 'date_added_to_netflix'\n",
    "cols[10] = 'genres'\n",
    "df.set_axis(cols, axis='columns', inplace=True)"
   ]
  },
  {
   "cell_type": "markdown",
   "id": "italic-textbook",
   "metadata": {},
   "source": [
    "Дупликатов нет, круто. Но есть много пропущенных значений. Пора определиться, какие данные нам понадобятся для анализа.\n",
    "\n",
    "     0   show_id       +\n",
    "     1   type          ++\n",
    "     2   title         +\n",
    "     3   director      -\n",
    "     4   actors          ?\n",
    "     5   countries       ?\n",
    "     6   date_added_to_netflix    +\n",
    "     7   release_year  +\n",
    "     8   rating        ++\n",
    "     9   duration      ?\n",
    "     10  genres        +\n",
    "     11  description   -\n",
    "где ++: ключевой параметр\n",
    "    +: нужный параметр\n",
    "    ?: может понадобится\n",
    "    -: не нужен"
   ]
  },
  {
   "cell_type": "markdown",
   "id": "ultimate-ireland",
   "metadata": {},
   "source": [
    "Чтобы нормально использовать столбец genres, хранящий в себе жанры, с ним стоит поработать отдельно. Есть проблемы:\n",
    "* названия одних и тех же жанров различаются у сериалов и фильмов, что не позволит сделать выборку одного и того же жанра удобно, но может и можно жить\n",
    "* разобраться как использовать столбец с множеством значений через запятую"
   ]
  },
  {
   "cell_type": "markdown",
   "id": "qualified-welding",
   "metadata": {},
   "source": [
    "Сделаем это если все таки понадобится, а пока доведем преобработку до конца. Начнем с работой с пустыми значениями\n",
    "Столбцы director, cast, country не выглядят ключевыми поэтому им просто заполняю пробелы значением 'unknown'. А вот записи где значения из date_added_to_netflix пропущены - удалю, так как это один из ключевых параметров анализа."
   ]
  },
  {
   "cell_type": "code",
   "execution_count": 105,
   "id": "spectacular-three",
   "metadata": {},
   "outputs": [],
   "source": [
    "df.dropna(subset = ['date_added_to_netflix'], inplace = True)\n",
    "df = df.fillna('unknown')"
   ]
  },
  {
   "cell_type": "markdown",
   "id": "utility-humanitarian",
   "metadata": {},
   "source": [
    "Разобьем дату по колонкам, чтобы можно было группировать по году:"
   ]
  },
  {
   "cell_type": "code",
   "execution_count": 189,
   "id": "median-defendant",
   "metadata": {},
   "outputs": [
    {
     "name": "stdout",
     "output_type": "stream",
     "text": [
      "<class 'pandas.core.frame.DataFrame'>\n",
      "Int64Index: 7777 entries, 0 to 7786\n",
      "Data columns (total 15 columns):\n",
      " #   Column                 Non-Null Count  Dtype \n",
      "---  ------                 --------------  ----- \n",
      " 0   show_id                7777 non-null   object\n",
      " 1   type                   7777 non-null   object\n",
      " 2   title                  7777 non-null   object\n",
      " 3   director               7777 non-null   object\n",
      " 4   actors                 7777 non-null   object\n",
      " 5   countries              7777 non-null   object\n",
      " 6   date_added_to_netflix  7777 non-null   object\n",
      " 7   release_year           7777 non-null   int64 \n",
      " 8   rating                 7777 non-null   object\n",
      " 9   duration               7777 non-null   object\n",
      " 10  genres                 7777 non-null   object\n",
      " 11  description            7777 non-null   object\n",
      " 12  yr_added               7777 non-null   int64 \n",
      " 13  month_added            7777 non-null   int64 \n",
      " 14  day_added              7777 non-null   int64 \n",
      "dtypes: int64(4), object(11)\n",
      "memory usage: 1.2+ MB\n"
     ]
    }
   ],
   "source": [
    "from datetime import datetime as dt\n",
    "\n",
    "df['yr_added'] = pd.to_datetime(df['date_added_to_netflix']).dt.year\n",
    "df['month_added'] = pd.to_datetime(df['date_added_to_netflix']).dt.month\n",
    "df['day_added'] = pd.to_datetime(df['date_added_to_netflix']).dt.day\n",
    "df.drop(columns=['date_added_to_netflix'])\n",
    "\n",
    "df.info()"
   ]
  },
  {
   "cell_type": "markdown",
   "id": "billion-exercise",
   "metadata": {},
   "source": [
    "## Is Netflix has increasingly focusing on TV show rather than movies in recent years?"
   ]
  },
  {
   "cell_type": "markdown",
   "id": "plain-privacy",
   "metadata": {},
   "source": [
    "Посмотрим количество вышедших на нетфликсе премьер фильмов и сериалов за последнее время с разбивкой по годам:"
   ]
  },
  {
   "cell_type": "code",
   "execution_count": 172,
   "id": "arbitrary-ocean",
   "metadata": {},
   "outputs": [
    {
     "data": {
      "text/html": [
       "<div>\n",
       "<style scoped>\n",
       "    .dataframe tbody tr th:only-of-type {\n",
       "        vertical-align: middle;\n",
       "    }\n",
       "\n",
       "    .dataframe tbody tr th {\n",
       "        vertical-align: top;\n",
       "    }\n",
       "\n",
       "    .dataframe thead th {\n",
       "        text-align: right;\n",
       "    }\n",
       "</style>\n",
       "<table border=\"1\" class=\"dataframe\">\n",
       "  <thead>\n",
       "    <tr style=\"text-align: right;\">\n",
       "      <th></th>\n",
       "      <th></th>\n",
       "      <th>TV Shows</th>\n",
       "      <th>Movies</th>\n",
       "      <th>TV Shows/Movies</th>\n",
       "    </tr>\n",
       "    <tr>\n",
       "      <th>yr_added</th>\n",
       "      <th>month_added</th>\n",
       "      <th></th>\n",
       "      <th></th>\n",
       "      <th></th>\n",
       "    </tr>\n",
       "  </thead>\n",
       "  <tbody>\n",
       "    <tr>\n",
       "      <th rowspan=\"2\" valign=\"top\">2008</th>\n",
       "      <th>1</th>\n",
       "      <td>0.0</td>\n",
       "      <td>1.0</td>\n",
       "      <td>0.0</td>\n",
       "    </tr>\n",
       "    <tr>\n",
       "      <th>2</th>\n",
       "      <td>1.0</td>\n",
       "      <td>0.0</td>\n",
       "      <td>inf</td>\n",
       "    </tr>\n",
       "    <tr>\n",
       "      <th rowspan=\"2\" valign=\"top\">2009</th>\n",
       "      <th>5</th>\n",
       "      <td>0.0</td>\n",
       "      <td>1.0</td>\n",
       "      <td>0.0</td>\n",
       "    </tr>\n",
       "    <tr>\n",
       "      <th>11</th>\n",
       "      <td>0.0</td>\n",
       "      <td>1.0</td>\n",
       "      <td>0.0</td>\n",
       "    </tr>\n",
       "    <tr>\n",
       "      <th>2010</th>\n",
       "      <th>11</th>\n",
       "      <td>0.0</td>\n",
       "      <td>1.0</td>\n",
       "      <td>0.0</td>\n",
       "    </tr>\n",
       "    <tr>\n",
       "      <th>...</th>\n",
       "      <th>...</th>\n",
       "      <td>...</td>\n",
       "      <td>...</td>\n",
       "      <td>...</td>\n",
       "    </tr>\n",
       "    <tr>\n",
       "      <th rowspan=\"4\" valign=\"top\">2020</th>\n",
       "      <th>9</th>\n",
       "      <td>62.0</td>\n",
       "      <td>116.0</td>\n",
       "      <td>53.4</td>\n",
       "    </tr>\n",
       "    <tr>\n",
       "      <th>10</th>\n",
       "      <td>56.0</td>\n",
       "      <td>117.0</td>\n",
       "      <td>47.9</td>\n",
       "    </tr>\n",
       "    <tr>\n",
       "      <th>11</th>\n",
       "      <td>55.0</td>\n",
       "      <td>103.0</td>\n",
       "      <td>53.4</td>\n",
       "    </tr>\n",
       "    <tr>\n",
       "      <th>12</th>\n",
       "      <td>74.0</td>\n",
       "      <td>101.0</td>\n",
       "      <td>73.3</td>\n",
       "    </tr>\n",
       "    <tr>\n",
       "      <th>2021</th>\n",
       "      <th>1</th>\n",
       "      <td>29.0</td>\n",
       "      <td>88.0</td>\n",
       "      <td>33.0</td>\n",
       "    </tr>\n",
       "  </tbody>\n",
       "</table>\n",
       "<p>100 rows × 3 columns</p>\n",
       "</div>"
      ],
      "text/plain": [
       "                      TV Shows  Movies  TV Shows/Movies\n",
       "yr_added month_added                                   \n",
       "2008     1                 0.0     1.0              0.0\n",
       "         2                 1.0     0.0              inf\n",
       "2009     5                 0.0     1.0              0.0\n",
       "         11                0.0     1.0              0.0\n",
       "2010     11                0.0     1.0              0.0\n",
       "...                        ...     ...              ...\n",
       "2020     9                62.0   116.0             53.4\n",
       "         10               56.0   117.0             47.9\n",
       "         11               55.0   103.0             53.4\n",
       "         12               74.0   101.0             73.3\n",
       "2021     1                29.0    88.0             33.0\n",
       "\n",
       "[100 rows x 3 columns]"
      ]
     },
     "execution_count": 172,
     "metadata": {},
     "output_type": "execute_result"
    }
   ],
   "source": [
    "group = df.groupby(by = ['type', 'yr_added', 'month_added']).count()['title']\n",
    "d = {'TV Shows': group['TV Show'], 'Movies': group['Movie']}\n",
    "table = pd.DataFrame(data=d).fillna(0)\n",
    "table['TV Shows/Movies'] = round(table['TV Shows'] / table['Movies'] * 100, 1)\n",
    "table.tail(300)\n",
    "# group.head(10)"
   ]
  },
  {
   "cell_type": "code",
   "execution_count": 182,
   "id": "empty-disposal",
   "metadata": {},
   "outputs": [
    {
     "data": {
      "image/png": "[encoded data removed]",
      "text/plain": [
       "<Figure size 432x288 with 1 Axes>"
      ]
     },
     "metadata": {
      "needs_background": "light"
     },
     "output_type": "display_data"
    }
   ],
   "source": [
    "import matplotlib.pyplot as plt\n",
    "import numpy as np\n",
    "\n",
    "correlation = table['TV Shows/Movies']\n",
    "\n",
    "years = 5\n",
    "indexes = pd.date_range(start=pd.to_datetime('today')-np.timedelta64(years, 'Y'), periods=12*years, freq='M')\n",
    "\n",
    "\n",
    "plt.plot(indexes, correlation.tail(12*years))\n",
    "plt.xlabel(\"Динамика отношения количества сериалов к фильмам по месяцам, в процентах\")\n",
    "plt.show()"
   ]
  },
  {
   "cell_type": "markdown",
   "id": "noted-kitchen",
   "metadata": {},
   "source": [
    "### Промежуточные выводы\n",
    "На графике сложно установить какой либо тенденции. Поэтому, исходя из полученных данных о количестве премьер, нельзя утверждать что сериалов на платформе становится больше, чем фильмов или наоборот.\n",
    "\n",
    "**Но основываться на этих данных не стоит**, так как реальное положение дел это не описывает. **Одна премьера может собрать огромное количество просмотров, а другая не собрать ничего.**\n",
    "\n",
    "Более того, можно предположить, что кассовость премьер наоборот толкает скорость выхода новых премьер вниз, так как на их успех расчитывают больше => бюджеты и масштабы увеличиваются => время на сьемку становится больше => меньше премьер в год (высказывание-кандидат на отдельную гипотезу)\n",
    "\n",
    "Для более качественной проработки нашей основной гипотезы, **нужно достать данные о просмотрах собранных нами картин на нетфликсе.**"
   ]
  },
  {
   "cell_type": "code",
   "execution_count": null,
   "id": "collective-strand",
   "metadata": {},
   "outputs": [],
   "source": []
  }
 ],
 "metadata": {
  "kernelspec": {
   "display_name": "Python 3",
   "language": "python",
   "name": "python3"
  },
  "language_info": {
   "codemirror_mode": {
    "name": "ipython",
    "version": 3
   },
   "file_extension": ".py",
   "mimetype": "text/x-python",
   "name": "python",
   "nbconvert_exporter": "python",
   "pygments_lexer": "ipython3",
   "version": "3.8.4"
  }
 },
 "nbformat": 4,
 "nbformat_minor": 5
}
